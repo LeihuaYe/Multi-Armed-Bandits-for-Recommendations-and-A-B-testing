{
 "cells": [
  {
   "cell_type": "markdown",
   "metadata": {},
   "source": [
    "# Multi-Armed-Bandits-for-Recommendations-and-A-B-testing"
   ]
  },
  {
   "cell_type": "code",
   "execution_count": null,
   "metadata": {},
   "outputs": [],
   "source": []
  },
  {
   "cell_type": "code",
   "execution_count": 1,
   "metadata": {},
   "outputs": [],
   "source": [
    "import numpy as np\n",
    "import pandas as pd"
   ]
  },
  {
   "cell_type": "code",
   "execution_count": 2,
   "metadata": {},
   "outputs": [],
   "source": [
    "from libraries.ABTestSimulator import ABTestReplayer\n",
    "from libraries.MAB import ThompsonSamplingReplayer\n",
    "from libraries.EpsilonGreedy import EpsilonGreedyReplayer\n",
    "\n",
    "from libraries.RealtimeUserSimulator import ReplaySimulator\n",
    "from libraries.UCB import UCBSamplingReplayer"
   ]
  },
  {
   "cell_type": "code",
   "execution_count": 3,
   "metadata": {},
   "outputs": [
    {
     "data": {
      "text/html": [
       "<div>\n",
       "<style scoped>\n",
       "    .dataframe tbody tr th:only-of-type {\n",
       "        vertical-align: middle;\n",
       "    }\n",
       "\n",
       "    .dataframe tbody tr th {\n",
       "        vertical-align: top;\n",
       "    }\n",
       "\n",
       "    .dataframe thead th {\n",
       "        text-align: right;\n",
       "    }\n",
       "</style>\n",
       "<table border=\"1\" class=\"dataframe\">\n",
       "  <thead>\n",
       "    <tr style=\"text-align: right;\">\n",
       "      <th></th>\n",
       "      <th>user_id</th>\n",
       "      <th>movie_id</th>\n",
       "      <th>rating</th>\n",
       "      <th>movie_title</th>\n",
       "    </tr>\n",
       "  </thead>\n",
       "  <tbody>\n",
       "    <tr>\n",
       "      <th>0</th>\n",
       "      <td>307</td>\n",
       "      <td>0</td>\n",
       "      <td>4</td>\n",
       "      <td>Toy Story</td>\n",
       "    </tr>\n",
       "    <tr>\n",
       "      <th>1</th>\n",
       "      <td>250</td>\n",
       "      <td>99</td>\n",
       "      <td>4</td>\n",
       "      <td>Fargo</td>\n",
       "    </tr>\n",
       "    <tr>\n",
       "      <th>2</th>\n",
       "      <td>24</td>\n",
       "      <td>180</td>\n",
       "      <td>5</td>\n",
       "      <td>Return of the Jedi</td>\n",
       "    </tr>\n",
       "    <tr>\n",
       "      <th>3</th>\n",
       "      <td>19</td>\n",
       "      <td>287</td>\n",
       "      <td>1</td>\n",
       "      <td>Scream</td>\n",
       "    </tr>\n",
       "    <tr>\n",
       "      <th>4</th>\n",
       "      <td>31</td>\n",
       "      <td>293</td>\n",
       "      <td>3</td>\n",
       "      <td>Liar Liar</td>\n",
       "    </tr>\n",
       "  </tbody>\n",
       "</table>\n",
       "</div>"
      ],
      "text/plain": [
       "   user_id  movie_id  rating         movie_title\n",
       "0      307         0       4           Toy Story\n",
       "1      250        99       4               Fargo\n",
       "2       24       180       5  Return of the Jedi\n",
       "3       19       287       1              Scream\n",
       "4       31       293       3           Liar Liar"
      ]
     },
     "execution_count": 3,
     "metadata": {},
     "output_type": "execute_result"
    }
   ],
   "source": [
    "rating_df = pd.read_csv('data/top-n-movies_user-ratings.csv').drop(columns='Unnamed: 0')\n",
    "rating_df.head()"
   ]
  },
  {
   "cell_type": "code",
   "execution_count": 4,
   "metadata": {},
   "outputs": [
    {
     "data": {
      "text/html": [
       "<div>\n",
       "<style scoped>\n",
       "    .dataframe tbody tr th:only-of-type {\n",
       "        vertical-align: middle;\n",
       "    }\n",
       "\n",
       "    .dataframe tbody tr th {\n",
       "        vertical-align: top;\n",
       "    }\n",
       "\n",
       "    .dataframe thead th {\n",
       "        text-align: right;\n",
       "    }\n",
       "</style>\n",
       "<table border=\"1\" class=\"dataframe\">\n",
       "  <thead>\n",
       "    <tr style=\"text-align: right;\">\n",
       "      <th></th>\n",
       "      <th>user_id</th>\n",
       "      <th>movie_id</th>\n",
       "      <th>rating</th>\n",
       "      <th>movie_title</th>\n",
       "      <th>reward</th>\n",
       "    </tr>\n",
       "  </thead>\n",
       "  <tbody>\n",
       "    <tr>\n",
       "      <th>0</th>\n",
       "      <td>307</td>\n",
       "      <td>0</td>\n",
       "      <td>4</td>\n",
       "      <td>Toy Story</td>\n",
       "      <td>0</td>\n",
       "    </tr>\n",
       "    <tr>\n",
       "      <th>1</th>\n",
       "      <td>250</td>\n",
       "      <td>99</td>\n",
       "      <td>4</td>\n",
       "      <td>Fargo</td>\n",
       "      <td>0</td>\n",
       "    </tr>\n",
       "    <tr>\n",
       "      <th>2</th>\n",
       "      <td>24</td>\n",
       "      <td>180</td>\n",
       "      <td>5</td>\n",
       "      <td>Return of the Jedi</td>\n",
       "      <td>1</td>\n",
       "    </tr>\n",
       "    <tr>\n",
       "      <th>3</th>\n",
       "      <td>19</td>\n",
       "      <td>287</td>\n",
       "      <td>1</td>\n",
       "      <td>Scream</td>\n",
       "      <td>0</td>\n",
       "    </tr>\n",
       "    <tr>\n",
       "      <th>4</th>\n",
       "      <td>31</td>\n",
       "      <td>293</td>\n",
       "      <td>3</td>\n",
       "      <td>Liar Liar</td>\n",
       "      <td>0</td>\n",
       "    </tr>\n",
       "  </tbody>\n",
       "</table>\n",
       "</div>"
      ],
      "text/plain": [
       "   user_id  movie_id  rating         movie_title  reward\n",
       "0      307         0       4           Toy Story       0\n",
       "1      250        99       4               Fargo       0\n",
       "2       24       180       5  Return of the Jedi       1\n",
       "3       19       287       1              Scream       0\n",
       "4       31       293       3           Liar Liar       0"
      ]
     },
     "execution_count": 4,
     "metadata": {},
     "output_type": "execute_result"
    }
   ],
   "source": [
    "reward_threshold = 4\n",
    "rating_df['reward'] = rating_df.eval('rating > @reward_threshold').astype(int)\n",
    "rating_df.head()"
   ]
  },
  {
   "cell_type": "code",
   "execution_count": 5,
   "metadata": {},
   "outputs": [],
   "source": [
    "n_visits = 20000\n",
    "n_iterations = 20\n",
    "\n",
    "reward_history = rating_df\n",
    "item_col_name = 'movie_id'\n",
    "visitor_col_name = 'user_id'\n",
    "reward_col_name = 'reward'"
   ]
  },
  {
   "cell_type": "markdown",
   "metadata": {},
   "source": [
    "## A/B Test Simulations\n",
    "\n",
    "Test period = 1,000 visits\n",
    "\n",
    "Run the test"
   ]
  },
  {
   "cell_type": "code",
   "execution_count": null,
   "metadata": {},
   "outputs": [],
   "source": [
    "n_test_visits = 10\n",
    "ab_1k_results = ABTestReplayer(n_visits, n_test_visits, reward_history,\n",
    "                               item_col_name, visitor_col_name, reward_col_name,\n",
    "                               n_iterations=n_iterations).replay()"
   ]
  },
  {
   "cell_type": "code",
   "execution_count": null,
   "metadata": {},
   "outputs": [],
   "source": [
    "ab_1k_results_df = pd.DataFrame(ab_1k_results)\n",
    "ab_1k_results_df.head()"
   ]
  },
  {
   "cell_type": "markdown",
   "metadata": {},
   "source": [
    "\n",
    "$\\epsilon$-Greedy Simulations\n",
    "\n",
    "\n",
    "$\\epsilon$ = 0.05"
   ]
  },
  {
   "cell_type": "code",
   "execution_count": null,
   "metadata": {},
   "outputs": [],
   "source": [
    "epsilon = 0.05\n",
    "epsilon_05_results = EpsilonGreedyReplayer(epsilon, n_visits, reward_history,\n",
    "                                           item_col_name, visitor_col_name, reward_col_name,\n",
    "                                           n_iterations=n_iterations).replay()"
   ]
  },
  {
   "cell_type": "markdown",
   "metadata": {},
   "source": [
    "## Thompson Sampling Simulations"
   ]
  },
  {
   "cell_type": "code",
   "execution_count": null,
   "metadata": {},
   "outputs": [],
   "source": [
    "thompson_results = ThompsonSamplingReplayer(n_visits, reward_history,\n",
    "                                            item_col_name, visitor_col_name, reward_col_name,\n",
    "                                            n_iterations=n_iterations).replay()"
   ]
  },
  {
   "cell_type": "code",
   "execution_count": null,
   "metadata": {},
   "outputs": [
    {
     "name": "stderr",
     "output_type": "stream",
     "text": [
      " 15%|█▌        | 3/20 [02:51<16:11, 57.14s/it]"
     ]
    }
   ],
   "source": [
    "ucb =2\n",
    "thompson_results = UCBSamplingReplayer(ucb, n_visits, reward_history,\n",
    "                                            item_col_name, visitor_col_name, reward_col_name,\n",
    "                                            n_iterations=n_iterations).replay()"
   ]
  },
  {
   "cell_type": "code",
   "execution_count": null,
   "metadata": {},
   "outputs": [],
   "source": []
  },
  {
   "cell_type": "code",
   "execution_count": null,
   "metadata": {},
   "outputs": [],
   "source": []
  }
 ],
 "metadata": {
  "kernelspec": {
   "display_name": "RL-project",
   "language": "python",
   "name": "rl-project"
  },
  "language_info": {
   "codemirror_mode": {
    "name": "ipython",
    "version": 3
   },
   "file_extension": ".py",
   "mimetype": "text/x-python",
   "name": "python",
   "nbconvert_exporter": "python",
   "pygments_lexer": "ipython3",
   "version": "3.7.9"
  }
 },
 "nbformat": 4,
 "nbformat_minor": 4
}
